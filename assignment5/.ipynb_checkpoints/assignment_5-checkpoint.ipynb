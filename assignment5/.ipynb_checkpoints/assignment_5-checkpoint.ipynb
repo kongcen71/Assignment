{
 "cells": [
  {
   "cell_type": "code",
   "execution_count": null,
   "metadata": {},
   "outputs": [],
   "source": [
    "################################################################################################################\n",
    "\n",
    "# EXTERNAL MODULES TO BE USED\n",
    "\n",
    "################################################################################################################\n",
    "\n",
    "from flask import Flask, render_template, redirect, url_for\n",
    "import pandas as pd\n",
    "\n",
    "app = Flask(__name__)\n",
    "    \n",
    "################################################################################################################\n",
    "\n",
    "# WEB ROUTES FOR CONTROLLING ACCESS TO TEMPLATE VIEWS\n",
    "\n",
    "################################################################################################################\n",
    "\n",
    "@app.route(\"/\")\n",
    "def index():\n",
    "    return render_template('index.html')\n",
    "\n",
    "if __name__ == '__main__':\n",
    "    app.run('localhost', 9004)"
   ]
  },
  {
   "cell_type": "code",
   "execution_count": null,
   "metadata": {},
   "outputs": [],
   "source": []
  }
 ],
 "metadata": {
  "kernelspec": {
   "display_name": "Python 3",
   "language": "python",
   "name": "python3"
  },
  "language_info": {
   "codemirror_mode": {
    "name": "ipython",
    "version": 3
   },
   "file_extension": ".py",
   "mimetype": "text/x-python",
   "name": "python",
   "nbconvert_exporter": "python",
   "pygments_lexer": "ipython3",
   "version": "3.8.5"
  }
 },
 "nbformat": 4,
 "nbformat_minor": 4
}
